{
 "cells": [
  {
   "cell_type": "markdown",
   "metadata": {},
   "source": [
    "1. Escreva uma função em Python que receba uma sequência de um ou mais números, e retorne o menor e o maior número na forma de uma tupla de tamanho 2."
   ]
  },
  {
   "cell_type": "code",
   "execution_count": 1,
   "metadata": {},
   "outputs": [
    {
     "name": "stdout",
     "output_type": "stream",
     "text": [
      "O menor número é 1 e o maior número é 9\n"
     ]
    }
   ],
   "source": [
    "def encontrar_extremos(numeros):\n",
    "    menor = min(numeros)\n",
    "    maior = max(numeros)\n",
    "    return (menor, maior)\n",
    "\n",
    "# Exemplo de uso\n",
    "sequencia = [3, 1, 4, 1, 5, 9, 2, 6, 5, 3, 5]\n",
    "resultado = encontrar_extremos(sequencia)\n",
    "print(f\"O menor número é {resultado[0]} e o maior número é {resultado[1]}\")\n"
   ]
  },
  {
   "cell_type": "markdown",
   "metadata": {},
   "source": [
    "2. Escreva uma função em Python que receba um inteiro positivo n e retorne a soma dos quadrados de todos os inteiros positivos menores do que n."
   ]
  },
  {
   "cell_type": "code",
   "execution_count": 2,
   "metadata": {},
   "outputs": [
    {
     "name": "stdout",
     "output_type": "stream",
     "text": [
      "A soma dos quadrados dos inteiros positivos menores que 5 é 30\n"
     ]
    }
   ],
   "source": [
    "def soma_dos_quadrados(n):\n",
    "    soma = sum(i**2 for i in range(1, n))\n",
    "    return soma\n",
    "\n",
    "# Exemplo de uso\n",
    "n = 5\n",
    "resultado = soma_dos_quadrados(n)\n",
    "print(f\"A soma dos quadrados dos inteiros positivos menores que {n} é {resultado}\")\n"
   ]
  },
  {
   "cell_type": "markdown",
   "metadata": {},
   "source": [
    "3. Escreva uma função em Python que receba um inteiro positivo n e retorne a soma dos quadrados de todos os inteiros positivos pares menores do que n."
   ]
  },
  {
   "cell_type": "code",
   "execution_count": 3,
   "metadata": {},
   "outputs": [
    {
     "name": "stdout",
     "output_type": "stream",
     "text": [
      "A soma dos quadrados dos inteiros positivos pares menores que 10 é 120\n"
     ]
    }
   ],
   "source": [
    "def soma_quadrados_pares(n):\n",
    "    soma = sum(i**2 for i in range(2, n, 2))\n",
    "    return soma\n",
    "\n",
    "# Exemplo de uso\n",
    "n = 10\n",
    "resultado = soma_quadrados_pares(n)\n",
    "print(f\"A soma dos quadrados dos inteiros positivos pares menores que {n} é {resultado}\")\n"
   ]
  },
  {
   "cell_type": "markdown",
   "metadata": {},
   "source": [
    "4. Escreva uma função em Python que receba uma sequência de números e determine se todos os números são diferentes um dos outros."
   ]
  },
  {
   "cell_type": "code",
   "execution_count": 4,
   "metadata": {},
   "outputs": [
    {
     "name": "stdout",
     "output_type": "stream",
     "text": [
      "Todos os números são diferentes: True\n"
     ]
    }
   ],
   "source": [
    "def todos_diferentes(numeros):\n",
    "    return len(numeros) == len(set(numeros))\n",
    "\n",
    "# Exemplo de uso\n",
    "sequencia = [1, 2, 3, 4, 5]\n",
    "resultado = todos_diferentes(sequencia)\n",
    "print(f\"Todos os números são diferentes: {resultado}\")\n"
   ]
  },
  {
   "cell_type": "markdown",
   "metadata": {},
   "source": [
    "5. O paradoxo do aniversário diz que a probabilidade de duas pessoas em uma mesma sala terem o mesmo dia de aniversário é maior do que 50%, dado n, o número de pessoas na sala for maior do que 23. Projete um programa em Python que teste este paradoxo por meio de uma série de experimentos em datas de aniversário aleatórias, que testam o paradoxo para n = 5,10,15,20,...,100."
   ]
  },
  {
   "cell_type": "code",
   "execution_count": 5,
   "metadata": {},
   "outputs": [
    {
     "name": "stdout",
     "output_type": "stream",
     "text": [
      "Para n = 5, a probabilidade de aniversários iguais é 0.03\n",
      "Para n = 10, a probabilidade de aniversários iguais é 0.12\n",
      "Para n = 15, a probabilidade de aniversários iguais é 0.24\n",
      "Para n = 20, a probabilidade de aniversários iguais é 0.41\n",
      "Para n = 25, a probabilidade de aniversários iguais é 0.56\n",
      "Para n = 30, a probabilidade de aniversários iguais é 0.70\n",
      "Para n = 35, a probabilidade de aniversários iguais é 0.81\n",
      "Para n = 40, a probabilidade de aniversários iguais é 0.90\n",
      "Para n = 45, a probabilidade de aniversários iguais é 0.94\n",
      "Para n = 50, a probabilidade de aniversários iguais é 0.97\n",
      "Para n = 55, a probabilidade de aniversários iguais é 0.99\n",
      "Para n = 60, a probabilidade de aniversários iguais é 0.99\n",
      "Para n = 65, a probabilidade de aniversários iguais é 1.00\n",
      "Para n = 70, a probabilidade de aniversários iguais é 1.00\n",
      "Para n = 75, a probabilidade de aniversários iguais é 1.00\n",
      "Para n = 80, a probabilidade de aniversários iguais é 1.00\n",
      "Para n = 85, a probabilidade de aniversários iguais é 1.00\n",
      "Para n = 90, a probabilidade de aniversários iguais é 1.00\n",
      "Para n = 95, a probabilidade de aniversários iguais é 1.00\n",
      "Para n = 100, a probabilidade de aniversários iguais é 1.00\n"
     ]
    }
   ],
   "source": [
    "import random\n",
    "\n",
    "def tem_aniversarios_iguais(pessoas):\n",
    "    aniversarios = [random.randint(1, 365) for _ in range(pessoas)]\n",
    "    return len(aniversarios) != len(set(aniversarios))\n",
    "\n",
    "def calcular_probabilidade(n, experimentos):\n",
    "    casos_favoraveis = sum(tem_aniversarios_iguais(n) for _ in range(experimentos))\n",
    "    return casos_favoraveis / experimentos\n",
    "\n",
    "def testar_paradoxo(experimentos=10000):\n",
    "    resultados = {}\n",
    "    for n in range(5, 101, 5):\n",
    "        probabilidade = calcular_probabilidade(n, experimentos)\n",
    "        resultados[n] = probabilidade\n",
    "        print(f\"Para n = {n}, a probabilidade de aniversários iguais é {probabilidade:.2f}\")\n",
    "    return resultados\n",
    "\n",
    "# Executar o teste\n",
    "resultados = testar_paradoxo()\n"
   ]
  }
 ],
 "metadata": {
  "kernelspec": {
   "display_name": "Python 3 (ipykernel)",
   "language": "python",
   "name": "python3"
  },
  "language_info": {
   "codemirror_mode": {
    "name": "ipython",
    "version": 3
   },
   "file_extension": ".py",
   "mimetype": "text/x-python",
   "name": "python",
   "nbconvert_exporter": "python",
   "pygments_lexer": "ipython3",
   "version": "3.10.2"
  }
 },
 "nbformat": 4,
 "nbformat_minor": 4
}
