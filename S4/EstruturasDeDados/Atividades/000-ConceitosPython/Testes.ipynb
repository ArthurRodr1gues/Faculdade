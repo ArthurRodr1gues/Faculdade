{
 "cells": [
  {
   "cell_type": "code",
   "execution_count": 11,
   "id": "0751a0a1-9a10-44c6-ad0c-09763ac220c8",
   "metadata": {},
   "outputs": [],
   "source": [
    "identificador1 = 2"
   ]
  },
  {
   "cell_type": "code",
   "execution_count": 12,
   "id": "89551763-6cbe-438a-86f1-64e58c1bd4a0",
   "metadata": {},
   "outputs": [],
   "source": [
    "identificador2 = identificador1"
   ]
  },
  {
   "cell_type": "code",
   "execution_count": 13,
   "id": "096d1c87-812e-475a-bb42-745b1d4bb709",
   "metadata": {},
   "outputs": [
    {
     "name": "stdout",
     "output_type": "stream",
     "text": [
      "O valor o identificador1 é '2' e do identificador2 é '2'\n"
     ]
    }
   ],
   "source": [
    "print(f\"O valor o identificador1 é '{identificador1}' e do identificador2 é '{identificador2}'\")"
   ]
  },
  {
   "cell_type": "code",
   "execution_count": 14,
   "id": "4183098a-6d5c-4c31-8e54-abf1a60a1de5",
   "metadata": {},
   "outputs": [
    {
     "name": "stdout",
     "output_type": "stream",
     "text": [
      "id(identificador1): 1743713534224\n",
      "id(identificador2): 1743713534224\n",
      "identificador1 e identificador2 apontam para o mesmo local na memória? True\n"
     ]
    }
   ],
   "source": [
    "print(f\"id(identificador1): {id(identificador1)}\")\n",
    "print(f\"id(identificador2): {id(identificador2)}\")\n",
    "\n",
    "# Verificando se ambos apontam para o mesmo local na memória\n",
    "print(f\"identificador1 e identificador2 apontam para o mesmo local na memória? {id(identificador1) == id(identificador2)}\")\n"
   ]
  },
  {
   "cell_type": "markdown",
   "id": "1df9d061-e1a3-498e-9b98-80451520642e",
   "metadata": {},
   "source": [
    "Mas Atenção: esse estado não é para sempre!"
   ]
  },
  {
   "cell_type": "code",
   "execution_count": 16,
   "id": "fe93aecc-d1c2-425f-8227-dc8ddb0f6260",
   "metadata": {},
   "outputs": [],
   "source": [
    "identificador2 = 4"
   ]
  },
  {
   "cell_type": "code",
   "execution_count": 17,
   "id": "09f2a4b1-55f1-44b3-9fb6-8b9e78c7d28c",
   "metadata": {},
   "outputs": [
    {
     "name": "stdout",
     "output_type": "stream",
     "text": [
      "Agora o novo valor do identificador2 é 4 \n"
     ]
    }
   ],
   "source": [
    "print(f\"Agora o novo valor do identificador2 é {identificador2} \")"
   ]
  },
  {
   "cell_type": "markdown",
   "id": "5b82a71e-6da5-4129-98a0-dc6ecb00782b",
   "metadata": {},
   "source": [
    "E os endereços? mudaram?"
   ]
  },
  {
   "cell_type": "code",
   "execution_count": 18,
   "id": "284b0b25-6df6-4a9c-acdb-0e85c95579c3",
   "metadata": {},
   "outputs": [
    {
     "name": "stdout",
     "output_type": "stream",
     "text": [
      "id(identificador1): 1743713534224\n",
      "id(identificador2): 1743713534288\n",
      "identificador1 e identificador2 apontam para o mesmo local na memória? False\n"
     ]
    }
   ],
   "source": [
    "print(f\"id(identificador1): {id(identificador1)}\")\n",
    "print(f\"id(identificador2): {id(identificador2)}\")\n",
    "\n",
    "# Verificando se ambos apontam para o mesmo local na memória\n",
    "print(f\"identificador1 e identificador2 apontam para o mesmo local na memória? {id(identificador1) == id(identificador2)}\")\n"
   ]
  },
  {
   "cell_type": "markdown",
   "id": "5e686614-ea64-4496-8d3c-1ff7af750e2f",
   "metadata": {},
   "source": [
    "## <center> Instanciação"
   ]
  },
  {
   "cell_type": "markdown",
   "id": "c1e8a1de-0e15-41a5-8266-01da4ae71209",
   "metadata": {},
   "source": [
    "Em Python, a criação de objetos pode ser feita de duas maneiras principais:\n",
    "\n",
    "1. **Chamando o Construtor**: Esta é a forma mais comum de criar instâncias de classes personalizadas. Ao chamar o construtor de uma classe, você cria um novo objeto dessa classe.\n",
    "2. **Usando Literais**: Literais são usados para criar instâncias de tipos de dados embutidos, como inteiros, strings, listas e dicionários.\n",
    "\n",
    "\n",
    "Por exemplo, você pode usar 10 para criar um inteiro, \"Olá\" para criar uma string, [1, 2, 3] para criar uma lista, e {\"chave\": \"valor\"} para criar um dicionário.\n",
    "Para classes personalizadas, você sempre usará o construtor para criar uma instância. **<u>Literais são específicos para tipos de dados embutidos</u>** e não podem ser usados para instanciar classes personalizadas diretamente."
   ]
  },
  {
   "cell_type": "code",
   "execution_count": 23,
   "id": "289cdacb-f6d0-4357-bba6-3573593834e9",
   "metadata": {},
   "outputs": [
    {
     "data": {
      "text/plain": [
       "tuple"
      ]
     },
     "execution_count": 23,
     "metadata": {},
     "output_type": "execute_result"
    }
   ],
   "source": [
    "a = (1, 2,3)\n",
    "type()"
   ]
  },
  {
   "cell_type": "code",
   "execution_count": 24,
   "id": "80608fa1-6cbe-4ec5-ba39-1e50afdf22c3",
   "metadata": {},
   "outputs": [
    {
     "name": "stdout",
     "output_type": "stream",
     "text": [
      "Primeiro elemento: 1\n",
      "Último elemento: 5\n",
      "Após append: [1, 2, 3, 4, 5, 6]\n",
      "Após extend: [1, 2, 3, 4, 5, 6, 7, 8]\n",
      "Após insert: [0, 1, 2, 3, 4, 5, 6, 7, 8]\n",
      "Após remove: [1, 2, 3, 4, 5, 6, 7, 8]\n",
      "Após pop: [2, 3, 4, 5, 6, 7, 8] Elemento removido: 1\n",
      "Após clear: []\n",
      "Concatenar listas: [1, 2, 3, 4, 5, 6]\n",
      "Repetir lista: [1, 2, 3, 1, 2, 3, 1, 2, 3]\n",
      "Verificar existência do 2 em lista1: True\n",
      "Comprimento de lista1: 3\n",
      "Lista ordenada: [6, 5, 4]\n",
      "Soma dos elementos de lista1: 6\n",
      "Menor elemento de lista2: 4\n",
      "Maior elemento de lista2: 6\n",
      "Índice da primeira ocorrência do 4: 4\n",
      "Número de ocorrências do 4: 3\n",
      "Lista ordenada in-place: [1, 2, 2, 3, 4, 4, 4, 5]\n",
      "Lista invertida in-place: [5, 4, 4, 4, 3, 2, 2, 1]\n",
      "Cópia da lista3: [5, 4, 4, 4, 3, 2, 2, 1]\n"
     ]
    }
   ],
   "source": [
    "# Criação de Listas\n",
    "minha_lista = [1, 2, 3, 4, 5]\n",
    "outra_lista = list((6, 7, 8, 9, 10))\n",
    "\n",
    "# Acesso a Elementos\n",
    "print(\"Primeiro elemento:\", minha_lista[0])\n",
    "print(\"Último elemento:\", minha_lista[-1])\n",
    "\n",
    "# Modificação de Listas\n",
    "# Adicionar Elementos\n",
    "minha_lista.append(6)\n",
    "print(\"Após append:\", minha_lista)\n",
    "\n",
    "minha_lista.extend([7, 8])\n",
    "print(\"Após extend:\", minha_lista)\n",
    "\n",
    "minha_lista.insert(0, 0)\n",
    "print(\"Após insert:\", minha_lista)\n",
    "\n",
    "# Remover Elementos\n",
    "minha_lista.remove(0)\n",
    "print(\"Após remove:\", minha_lista)\n",
    "\n",
    "elemento_removido = minha_lista.pop(0)\n",
    "print(\"Após pop:\", minha_lista, \"Elemento removido:\", elemento_removido)\n",
    "\n",
    "minha_lista.clear()\n",
    "print(\"Após clear:\", minha_lista)\n",
    "\n",
    "# Operações de Listas\n",
    "lista1 = [1, 2, 3]\n",
    "lista2 = [4, 5, 6]\n",
    "nova_lista = lista1 + lista2\n",
    "print(\"Concatenar listas:\", nova_lista)\n",
    "\n",
    "repetida_lista = lista1 * 3\n",
    "print(\"Repetir lista:\", repetida_lista)\n",
    "\n",
    "print(\"Verificar existência do 2 em lista1:\", 2 in lista1)\n",
    "\n",
    "# Funções de Listas\n",
    "print(\"Comprimento de lista1:\", len(lista1))\n",
    "print(\"Lista ordenada:\", sorted(lista2, reverse=True))\n",
    "print(\"Soma dos elementos de lista1:\", sum(lista1))\n",
    "print(\"Menor elemento de lista2:\", min(lista2))\n",
    "print(\"Maior elemento de lista2:\", max(lista2))\n",
    "\n",
    "# Métodos de Listas\n",
    "lista3 = [1, 2, 2, 3, 4, 4, 4, 5]\n",
    "print(\"Índice da primeira ocorrência do 4:\", lista3.index(4))\n",
    "print(\"Número de ocorrências do 4:\", lista3.count(4))\n",
    "\n",
    "lista3.sort()\n",
    "print(\"Lista ordenada in-place:\", lista3)\n",
    "\n",
    "lista3.reverse()\n",
    "print(\"Lista invertida in-place:\", lista3)\n",
    "\n",
    "copia_lista3 = lista3.copy()\n",
    "print(\"Cópia da lista3:\", copia_lista3)\n"
   ]
  }
 ],
 "metadata": {
  "kernelspec": {
   "display_name": "Python 3 (ipykernel)",
   "language": "python",
   "name": "python3"
  },
  "language_info": {
   "codemirror_mode": {
    "name": "ipython",
    "version": 3
   },
   "file_extension": ".py",
   "mimetype": "text/x-python",
   "name": "python",
   "nbconvert_exporter": "python",
   "pygments_lexer": "ipython3",
   "version": "3.10.2"
  }
 },
 "nbformat": 4,
 "nbformat_minor": 5
}
