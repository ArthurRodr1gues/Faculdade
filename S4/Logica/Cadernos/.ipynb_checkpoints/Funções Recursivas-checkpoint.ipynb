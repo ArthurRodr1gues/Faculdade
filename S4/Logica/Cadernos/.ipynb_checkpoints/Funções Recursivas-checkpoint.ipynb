{
 "cells": [
  {
   "cell_type": "markdown",
   "id": "42ac65c5-1770-4f65-9308-d8a341f0c431",
   "metadata": {},
   "source": [
    "---\n",
    "# <center> Funções Recursivas\n",
    "---\n",
    "Funções recursivas em Python são aquelas que chamam a si mesmas como parte de sua execução. A recursão é uma técnica poderosa para resolver problemas que podem ser divididos em subproblemas menores, sendo cada subproblema semelhante ao problema original.\n",
    "\n",
    "### Características principais:\n",
    "**Caso base:** Toda função recursiva deve ter um ou mais casos base, que definem quando a recursão deve parar. Isso evita que a função se chame indefinidamente e cause um erro de \"recursão infinita\".  \n",
    "**Chamada recursiva:** O problema é resolvido dividindo-o em <u>instâncias</u> menores dele mesmo. Cada vez que a função chama a si mesma, ela trabalha em uma versão reduzida do problema.  \n",
    "\n",
    "\n",
    "### Exemplos típicos:  \n",
    "* Fatorial: Um exemplo clássico de função recursiva é o cálculo do fatorial de um número:"
   ]
  },
  {
   "cell_type": "code",
   "execution_count": null,
   "id": "a0526b00-2b7b-48c6-ab0b-357c575343f6",
   "metadata": {},
   "outputs": [],
   "source": [
    "def fatorial(n):\n",
    "    if n == 1:  # Caso base\n",
    "        return 1\n",
    "    else:\n",
    "        return n * fatorial(n - 1)  # Chamada recursiva\n"
   ]
  },
  {
   "cell_type": "code",
   "execution_count": null,
   "id": "19f110dc-b4ce-46a3-b3bd-4280ba757d3f",
   "metadata": {},
   "outputs": [],
   "source": [
    "n = int(input(\"Digite um inteiro para calcular o seu fatorial: \"))\n",
    "\n",
    "print(f\"O fatorial de {n} é {fatorial(n)}\")"
   ]
  },
  {
   "cell_type": "markdown",
   "id": "5a367f3d-74f6-46a5-9a88-13701664b4bc",
   "metadata": {},
   "source": [
    "## Exemplo de uso para um n = 4 \n",
    "| Entrada     | Retorno               | Ação                             |\n",
    "|:-----------:|:---------------------:|:--------------------------------:|\n",
    "| fatorial(4) | 4 * fatorial(3)       | Guarda o 4 e opera com o 3       |\n",
    "| fatorial(3) | 3 * fatorial(2)       | Guarda o 3 e opera com o 2       |\n",
    "| fatorial(2) | 2 * fatorial(1)       | Guarda o 2 e opera com o 1       |\n",
    "| fatorial(1) | 1                     | Caiu no caso base               |\n"
   ]
  },
  {
   "cell_type": "markdown",
   "id": "6c56a18f-5cb9-4087-9fbf-3c7bd7814ce8",
   "metadata": {},
   "source": [
    "* Sequência de Fibonacci: Outro exemplo é calcular o n-ésimo número da sequência de Fibonacci"
   ]
  },
  {
   "cell_type": "code",
   "execution_count": 16,
   "id": "4a6f65fe-fa2c-4546-9668-1b403c6752a7",
   "metadata": {},
   "outputs": [],
   "source": [
    "def fibonacci(f):\n",
    "    if f == 0:  # Caso base\n",
    "        return 0\n",
    "    elif f == 1:\n",
    "        return 1\n",
    "    else:\n",
    "        return fibonacci(f - 1) + fibonacci(f - 2)  # Chamada recursiva"
   ]
  },
  {
   "cell_type": "markdown",
   "id": "3746746d-29e2-4849-a82b-f76c8bc881e8",
   "metadata": {},
   "source": [
    "* Exemplo de uso"
   ]
  }
 ],
 "metadata": {
  "kernelspec": {
   "display_name": "Python 3 (ipykernel)",
   "language": "python",
   "name": "python3"
  },
  "language_info": {
   "codemirror_mode": {
    "name": "ipython",
    "version": 3
   },
   "file_extension": ".py",
   "mimetype": "text/x-python",
   "name": "python",
   "nbconvert_exporter": "python",
   "pygments_lexer": "ipython3",
   "version": "3.10.2"
  }
 },
 "nbformat": 4,
 "nbformat_minor": 5
}
